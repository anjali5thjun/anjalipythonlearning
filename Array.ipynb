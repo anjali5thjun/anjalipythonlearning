{
  "nbformat": 4,
  "nbformat_minor": 0,
  "metadata": {
    "kernelspec": {
      "display_name": "Python 3",
      "language": "python",
      "name": "python3"
    },
    "language_info": {
      "codemirror_mode": {
        "name": "ipython",
        "version": 3
      },
      "file_extension": ".py",
      "mimetype": "text/x-python",
      "name": "python",
      "nbconvert_exporter": "python",
      "pygments_lexer": "ipython3",
      "version": "3.7.3"
    },
    "colab": {
      "name": "Array.ipynb",
      "provenance": [],
      "include_colab_link": true
    }
  },
  "cells": [
    {
      "cell_type": "markdown",
      "metadata": {
        "id": "view-in-github",
        "colab_type": "text"
      },
      "source": [
        "<a href=\"https://colab.research.google.com/github/anjali5thjun/anjalipythonlearning/blob/master/Array.ipynb\" target=\"_parent\"><img src=\"https://colab.research.google.com/assets/colab-badge.svg\" alt=\"Open In Colab\"/></a>"
      ]
    },
    {
      "cell_type": "code",
      "metadata": {
        "id": "VCWsxO7424zq",
        "colab_type": "code",
        "colab": {
          "base_uri": "https://localhost:8080/",
          "height": 119
        },
        "outputId": "0f1ed158-9da3-449f-c610-b78b009df1a6"
      },
      "source": [
        "def splitArr(arr,n,k):\n",
        "    for i in  range(0,k):\n",
        "        x  = arr[0]\n",
        "        for j in range(0,n-1):\n",
        "            arr[j] = arr[j+1]\n",
        "            \n",
        "        arr[n-1] = x\n",
        "        \n",
        "        \n",
        "arr =[12 ,10,5,6,52,36]\n",
        "n = len(arr)\n",
        "p = 2\n",
        "splitArr(arr,n,p)\n",
        "for i in range(0,n):\n",
        "    print(arr[i])"
      ],
      "execution_count": 1,
      "outputs": [
        {
          "output_type": "stream",
          "text": [
            "5\n",
            "6\n",
            "52\n",
            "36\n",
            "12\n",
            "10\n"
          ],
          "name": "stdout"
        }
      ]
    },
    {
      "cell_type": "code",
      "metadata": {
        "id": "0b_UEBmC240L",
        "colab_type": "code",
        "colab": {
          "base_uri": "https://localhost:8080/",
          "height": 34
        },
        "outputId": "63ab0713-083d-4431-967a-ccf2d0eb09eb"
      },
      "source": [
        "dict = {'Name': 'Zara', 'Age': 7};\n",
        "print(\"Length : %d\" % len (dict))"
      ],
      "execution_count": 2,
      "outputs": [
        {
          "output_type": "stream",
          "text": [
            "Length : 2\n"
          ],
          "name": "stdout"
        }
      ]
    },
    {
      "cell_type": "code",
      "metadata": {
        "id": "ehVG7Pae240V",
        "colab_type": "code",
        "colab": {}
      },
      "source": [
        "def dictionary():\n",
        "    key_value ={}\n",
        "    \n",
        "    key_value[apple]=\"fruit\"\n",
        "    key_value[orange]=\"fruit\"\n",
        "    key_value[grapes]=\"fruit\"\n",
        "    key_value[mango]=\"fruit\"\n",
        "    \n",
        "    print(\"Task1Task 2:-\\nKeys and Values sorted in\",  \n",
        "            \"alphabetical order by the key  \")\n",
        "    for i in sorted(key_value):\n",
        "        print ((i, key_value[i]), end =\" \") \n",
        "        \n",
        "        def main():\n",
        "            dictionary()\n",
        "            \n",
        "            if _name_ ==\"_main_\":\n",
        "                main()"
      ],
      "execution_count": 0,
      "outputs": []
    },
    {
      "cell_type": "code",
      "metadata": {
        "id": "oTSFtIyv240f",
        "colab_type": "code",
        "colab": {},
        "outputId": "b5ccdedb-b359-49b2-e279-3a593827a5a6"
      },
      "source": [
        "import collections \n",
        "\n",
        "defd = collections.defaultdict(lambda:'key not found')\n",
        "\n",
        "defd['a'] = 1\n",
        "defd['b'] = 2\n",
        "\n",
        "print (\"The value associated with 'a' is : \",end=\"\") \n",
        "print(defd['a'])\n",
        "\n",
        "print (\"The value associated with 'c' is : \",end=\"\") \n",
        "print (defd['c']) "
      ],
      "execution_count": 0,
      "outputs": [
        {
          "output_type": "stream",
          "text": [
            "The value associated with 'a' is : 1\n",
            "The value associated with 'c' is : key not found\n"
          ],
          "name": "stdout"
        }
      ]
    },
    {
      "cell_type": "code",
      "metadata": {
        "id": "257Qbvd-240o",
        "colab_type": "code",
        "colab": {},
        "outputId": "a1eda61e-c30d-4a2f-a95c-e6feac30a8a8"
      },
      "source": [
        "import random  as rn\n",
        "dict ={}\n",
        "\n",
        "x, y, z = 10, 20, 30\n",
        "dict[x, y, z] = x + y - z; \n",
        "\n",
        "x,y,z = 5,4,2\n",
        "dict[x,y,z] = x+y-z;\n",
        "\n",
        "print(dict)"
      ],
      "execution_count": 0,
      "outputs": [
        {
          "output_type": "stream",
          "text": [
            "{(10, 20, 30): 0, (5, 4, 2): 7}\n"
          ],
          "name": "stdout"
        }
      ]
    },
    {
      "cell_type": "code",
      "metadata": {
        "id": "a0xGuNOV240x",
        "colab_type": "code",
        "colab": {},
        "outputId": "9c259582-0e67-4c62-dc5c-f0609c97993a"
      },
      "source": [
        "# Python3 program to \n",
        "# find remainder when \n",
        "# all array elements \n",
        "# are multiplied. \n",
        "\n",
        "# Find remainder of arr[0] * arr[1] \n",
        "# * .. * arr[n-1] \n",
        "def findremainder(arr, lens, n): \n",
        "\tmul = 1\n",
        "\n",
        "\t# find the individual \n",
        "\t# remainder and \n",
        "\t# multiple with mul. \n",
        "\tfor i in range(lens): \n",
        "\t\tmul = (mul * (arr[i] % n)) % n\n",
        "        \n",
        "\t\n",
        "\treturn mul % n \n",
        "\n",
        "# Driven code \n",
        "arr = [ 100, 10, 5, 25, 35, 14 ] \n",
        "lens = len(arr) \n",
        "n = 11\n",
        "\n",
        "# print the remainder \n",
        "# of after multiple \n",
        "# all the numbers \n",
        "print( findremainder(arr, lens, n)) \n",
        "\n",
        "# This code is contributed by \"rishabh_jain\". \n"
      ],
      "execution_count": 0,
      "outputs": [
        {
          "output_type": "error",
          "ename": "TabError",
          "evalue": "inconsistent use of tabs and spaces in indentation (<ipython-input-12-cdc6815ba0e4>, line 16)",
          "traceback": [
            "\u001b[1;36m  File \u001b[1;32m\"<ipython-input-12-cdc6815ba0e4>\"\u001b[1;36m, line \u001b[1;32m16\u001b[0m\n\u001b[1;33m    print(\"hi\")\u001b[0m\n\u001b[1;37m               ^\u001b[0m\n\u001b[1;31mTabError\u001b[0m\u001b[1;31m:\u001b[0m inconsistent use of tabs and spaces in indentation\n"
          ]
        }
      ]
    },
    {
      "cell_type": "code",
      "metadata": {
        "id": "l0JPxYop2408",
        "colab_type": "code",
        "colab": {},
        "outputId": "8de9f106-d147-46bc-9871-246cc5707f25"
      },
      "source": [
        "def countX(lst,X):\n",
        "    count = 0\n",
        "    for ele in lst: \n",
        "        if(ele == X):\n",
        "            count = count+1\n",
        "            return count\n",
        "        \n",
        "lst = [5, 6, 5, 10, 5, 20, 10, 5, 5]\n",
        "x = 5\n",
        "print('{} has occurred {} times'.format(x, countX(lst, x))) "
      ],
      "execution_count": 0,
      "outputs": [
        {
          "output_type": "stream",
          "text": [
            "5 has occurred 1 times\n"
          ],
          "name": "stdout"
        }
      ]
    },
    {
      "cell_type": "code",
      "metadata": {
        "id": "cgDBYWPT241I",
        "colab_type": "code",
        "colab": {},
        "outputId": "edadc929-afe3-40e0-cea4-4d1ad049b43a"
      },
      "source": [
        "def Cloning(li1): \n",
        "    li_copy = li1[:] \n",
        "    return li_copy \n",
        " \n",
        "li1 = [\"anjali,parth,pihu,\"] \n",
        "li2 = Cloning(li1) \n",
        "print(\"Original List:\", li1) \n",
        "print(\"After Cloning:\", li2) \n"
      ],
      "execution_count": 0,
      "outputs": [
        {
          "output_type": "stream",
          "text": [
            "Original List: ['anjali,parth,pihu,']\n",
            "After Cloning: ['anjali,parth,pihu,']\n"
          ],
          "name": "stdout"
        }
      ]
    },
    {
      "cell_type": "code",
      "metadata": {
        "id": "xDqvMUS_241Q",
        "colab_type": "code",
        "colab": {},
        "outputId": "ca600ec5-7426-4fca-b57e-72f3f98db0bd"
      },
      "source": [
        "def multiplyList(myList) : \n",
        "      \n",
        "     \n",
        "    result = 1\n",
        "    for x in myList: \n",
        "         result = result * x  \n",
        "    return result  \n",
        "      \n",
        "\n",
        "list1 = [1, 8, 2]  \n",
        "list2 = [9, 5, 2] \n",
        "print(multiplyList(list1)) \n",
        "print(multiplyList(list2)) "
      ],
      "execution_count": 0,
      "outputs": [
        {
          "output_type": "stream",
          "text": [
            "16\n",
            "90\n"
          ],
          "name": "stdout"
        }
      ]
    },
    {
      "cell_type": "code",
      "metadata": {
        "id": "y_RzhzF0241Y",
        "colab_type": "code",
        "colab": {},
        "outputId": "cadf430d-0654-4a2e-f0ed-80dba338643a"
      },
      "source": [
        "list1 =[12,45,23,33,57]\n",
        "\n",
        "list1.sort()\n",
        "\n",
        "print(\"Smallest element is:\", *list1[:1]) "
      ],
      "execution_count": 0,
      "outputs": [
        {
          "output_type": "stream",
          "text": [
            "Smallest element is: 12\n"
          ],
          "name": "stdout"
        }
      ]
    },
    {
      "cell_type": "code",
      "metadata": {
        "id": "CVzCuwYr241i",
        "colab_type": "code",
        "colab": {},
        "outputId": "7ca35233-27d4-4e65-f969-6adee2568a5e"
      },
      "source": [
        "list1 =[57,44,57,56,77,43,56]\n",
        "\n",
        "list1.sort()\n",
        "\n",
        "print(\"Largest element is\",*list1[:-1])"
      ],
      "execution_count": 0,
      "outputs": [
        {
          "output_type": "stream",
          "text": [
            "Largest element is 43 44 56 56 57 57\n"
          ],
          "name": "stdout"
        }
      ]
    },
    {
      "cell_type": "code",
      "metadata": {
        "id": "OlksMJJS241p",
        "colab_type": "code",
        "colab": {},
        "outputId": "bc02eeaf-cdb4-4e99-b20a-9f933b7fc46c"
      },
      "source": [
        "list1 =[99,22,43,56,98,]\n",
        "\n",
        "list1.sort()\n",
        "\n",
        "print(\"Largest element is\",*list1[:-2])"
      ],
      "execution_count": 0,
      "outputs": [
        {
          "output_type": "stream",
          "text": [
            "Largest element is 22 43 56\n"
          ],
          "name": "stdout"
        }
      ]
    },
    {
      "cell_type": "code",
      "metadata": {
        "id": "TxTZ-ry6241x",
        "colab_type": "code",
        "colab": {}
      },
      "source": [
        "def returnsum(mydict):\n",
        "    \n",
        "    sum = 0\n",
        "    for i in myDict:\n",
        "        sum = sum +myDict[i]\n",
        "        \n",
        "        return sum\n",
        "    \n",
        "    dict = {'a': 100, 'b':200, 'c':300} \n",
        "    print(\"sum :\",returnsum(dict))"
      ],
      "execution_count": 0,
      "outputs": []
    },
    {
      "cell_type": "code",
      "metadata": {
        "id": "MY5_51R32415",
        "colab_type": "code",
        "colab": {},
        "outputId": "87604cd6-36eb-4a64-b14a-54ec36ce7c39"
      },
      "source": [
        "def returnSum(myDict): \n",
        "      \n",
        "    sum = 0\n",
        "    for i in myDict: \n",
        "        sum = sum + myDict[i] \n",
        "      \n",
        "    return sum\n",
        "  \n",
        " \n",
        "dict = {'a': 156, 'b':223, 'c':876} \n",
        "print(\"Sum :\", returnSum(dict)) "
      ],
      "execution_count": 0,
      "outputs": [
        {
          "output_type": "stream",
          "text": [
            "Sum : 1255\n"
          ],
          "name": "stdout"
        }
      ]
    },
    {
      "cell_type": "code",
      "metadata": {
        "id": "jvwID7qj242B",
        "colab_type": "code",
        "colab": {},
        "outputId": "f38f4d74-4bc1-4433-8474-d1fe810eabac"
      },
      "source": [
        "test_dict ={\"Apple\":23,\"orange\":43,\"grapes\":56}\n",
        "print(\"The dictionary after remove is :\" + str(test_dict))\n",
        "\n",
        "del test_dict['orange'] \n",
        "\n",
        "print(\"The dictioary after remove is :\" + str(test_dict))"
      ],
      "execution_count": 0,
      "outputs": [
        {
          "output_type": "stream",
          "text": [
            "The dictionary after remove is :{'Apple': 23, 'orange': 43, 'grapes': 56}\n",
            "The dictioary after remove is :{'Apple': 23, 'grapes': 56}\n"
          ],
          "name": "stdout"
        }
      ]
    },
    {
      "cell_type": "code",
      "metadata": {
        "id": "viCzY3Jc242L",
        "colab_type": "code",
        "colab": {},
        "outputId": "d0a0e051-ff07-43f8-8bb1-2b83ff64eb9e"
      },
      "source": [
        "def printEvenWord(s):\n",
        "    s = s.split(' ')\n",
        "    for i in s:\n",
        "        if(len(i)%2 == 0):\n",
        "            print(\"EvenWord\",i)\n",
        "        else:\n",
        "            print(\"oddWord\",i)\n",
        "            \n",
        "s = \"i am anjali\"\n",
        "printEvenWord(s)"
      ],
      "execution_count": 0,
      "outputs": [
        {
          "output_type": "stream",
          "text": [
            "oddWord i\n",
            "EvenWord am\n",
            "EvenWord anjali\n"
          ],
          "name": "stdout"
        }
      ]
    },
    {
      "cell_type": "code",
      "metadata": {
        "id": "aYvH86nU242V",
        "colab_type": "code",
        "colab": {},
        "outputId": "2446e588-44e5-475a-c018-3f940ec17c1d"
      },
      "source": [
        "def printWord(v):\n",
        "    n = len(v)\n",
        "    print(n)\n",
        "    count = 0\n",
        "    #print(v[0])\n",
        "    for i in range(n):\n",
        "        print(v[i])\n",
        "        if(v[i]=='a' or v[i]=='e' or v[i]=='i' or v[i]=='o' or v[i]=='u'):\n",
        "                                                                 count = count+1\n",
        "                                                                 print(count)   \n",
        "                                                                 #print(\"This word is vowel\")\n",
        "                                                                 \n",
        "        else:\n",
        "            print(\"this is not vowel character\")\n",
        "                                                                 \n",
        "    if(n == count):\n",
        "        print(\"**********Vowel word**************\")\n",
        "    else:\n",
        "        print(\"************not Vowl word*************\")\n",
        "        \n",
        "v =\"aeeeeo\"\n",
        "printWord(v)          \n",
        "\n",
        "                                                                 "
      ],
      "execution_count": 0,
      "outputs": [
        {
          "output_type": "stream",
          "text": [
            "6\n",
            "a\n",
            "1\n",
            "e\n",
            "2\n",
            "e\n",
            "3\n",
            "e\n",
            "4\n",
            "e\n",
            "5\n",
            "o\n",
            "6\n",
            "**********Vowel word**************\n"
          ],
          "name": "stdout"
        }
      ]
    },
    {
      "cell_type": "code",
      "metadata": {
        "id": "09eMDiM6242g",
        "colab_type": "code",
        "colab": {},
        "outputId": "ea0425d6-7be5-4409-b6f7-c70e95de167b"
      },
      "source": [
        "thisset = {\"apple\", \"banana\", \"cherry\",\"apple\",\"banana\"}\n",
        "print(thisset)"
      ],
      "execution_count": 0,
      "outputs": [
        {
          "output_type": "stream",
          "text": [
            "{'cherry', 'banana', 'apple'}\n"
          ],
          "name": "stdout"
        }
      ]
    },
    {
      "cell_type": "code",
      "metadata": {
        "id": "xwp9yKd1242n",
        "colab_type": "code",
        "colab": {},
        "outputId": "e8124679-d149-4eee-b207-2428985b4d87"
      },
      "source": [
        "def printUniqueWord(s):\n",
        "    s = s.split(\" \")\n",
        "    setword = { }\n",
        "    for i in s:\n",
        "        setword.add(\"i\")\n",
        "    print(setword)\n",
        "    \n",
        "s = \"i am anjali anjali\"\n",
        "printUniqueWord(s)"
      ],
      "execution_count": 0,
      "outputs": [
        {
          "output_type": "error",
          "ename": "AttributeError",
          "evalue": "'dict' object has no attribute 'add'",
          "traceback": [
            "\u001b[1;31m---------------------------------------------------------------------------\u001b[0m",
            "\u001b[1;31mAttributeError\u001b[0m                            Traceback (most recent call last)",
            "\u001b[1;32m<ipython-input-50-1ba5e3f0ff7f>\u001b[0m in \u001b[0;36m<module>\u001b[1;34m\u001b[0m\n\u001b[0;32m      7\u001b[0m \u001b[1;33m\u001b[0m\u001b[0m\n\u001b[0;32m      8\u001b[0m \u001b[0ms\u001b[0m \u001b[1;33m=\u001b[0m \u001b[1;34m\"i am anjali anjali\"\u001b[0m\u001b[1;33m\u001b[0m\u001b[1;33m\u001b[0m\u001b[0m\n\u001b[1;32m----> 9\u001b[1;33m \u001b[0mprintUniqueWord\u001b[0m\u001b[1;33m(\u001b[0m\u001b[0ms\u001b[0m\u001b[1;33m)\u001b[0m\u001b[1;33m\u001b[0m\u001b[1;33m\u001b[0m\u001b[0m\n\u001b[0m",
            "\u001b[1;32m<ipython-input-50-1ba5e3f0ff7f>\u001b[0m in \u001b[0;36mprintUniqueWord\u001b[1;34m(s)\u001b[0m\n\u001b[0;32m      3\u001b[0m     \u001b[0msetword\u001b[0m \u001b[1;33m=\u001b[0m \u001b[1;33m{\u001b[0m \u001b[1;33m}\u001b[0m\u001b[1;33m\u001b[0m\u001b[1;33m\u001b[0m\u001b[0m\n\u001b[0;32m      4\u001b[0m     \u001b[1;32mfor\u001b[0m \u001b[0mi\u001b[0m \u001b[1;32min\u001b[0m \u001b[0ms\u001b[0m\u001b[1;33m:\u001b[0m\u001b[1;33m\u001b[0m\u001b[1;33m\u001b[0m\u001b[0m\n\u001b[1;32m----> 5\u001b[1;33m         \u001b[0msetword\u001b[0m\u001b[1;33m.\u001b[0m\u001b[0madd\u001b[0m\u001b[1;33m(\u001b[0m\u001b[1;34m\"i\"\u001b[0m\u001b[1;33m)\u001b[0m\u001b[1;33m\u001b[0m\u001b[1;33m\u001b[0m\u001b[0m\n\u001b[0m\u001b[0;32m      6\u001b[0m     \u001b[0mprint\u001b[0m\u001b[1;33m(\u001b[0m\u001b[0msetword\u001b[0m\u001b[1;33m)\u001b[0m\u001b[1;33m\u001b[0m\u001b[1;33m\u001b[0m\u001b[0m\n\u001b[0;32m      7\u001b[0m \u001b[1;33m\u001b[0m\u001b[0m\n",
            "\u001b[1;31mAttributeError\u001b[0m: 'dict' object has no attribute 'add'"
          ]
        }
      ]
    },
    {
      "cell_type": "code",
      "metadata": {
        "id": "XDDAcyi3242u",
        "colab_type": "code",
        "colab": {},
        "outputId": "17ac5424-0afd-489e-bd3e-cd50b023a340"
      },
      "source": [
        "def printEvenNumber(s):\n",
        "    for num in s:\n",
        "        \n",
        "        if(num % 2 == 0):\n",
        "            print(num, end = \" \")\n",
        "        else:\n",
        "            print(num, end = \" \") \n",
        "        \n",
        "s = [12,11,23,54,57,85,34,97]\n",
        "printEvenNumber(s)"
      ],
      "execution_count": 0,
      "outputs": [
        {
          "output_type": "stream",
          "text": [
            "12 11 23 54 57 85 34 97 "
          ],
          "name": "stdout"
        }
      ]
    },
    {
      "cell_type": "code",
      "metadata": {
        "id": "DG8S2gxf2421",
        "colab_type": "code",
        "colab": {},
        "outputId": "a02ef3bb-a50b-4cd7-ecf4-c1d1c4a23028"
      },
      "source": [
        "list1 = [10, 21, 4, 45, 66, 93] \n",
        "  \n",
        "for num in list1: \n",
        "      \n",
        "    if num % 2 == 0: \n",
        "       print(num, end = \" \") \n"
      ],
      "execution_count": 0,
      "outputs": [
        {
          "output_type": "stream",
          "text": [
            "10 4 66 "
          ],
          "name": "stdout"
        }
      ]
    },
    {
      "cell_type": "code",
      "metadata": {
        "id": "X5ZoI8Fi242-",
        "colab_type": "code",
        "colab": {},
        "outputId": "ded5065f-84c8-48bb-fa1e-b355d0c62ad0"
      },
      "source": [
        "def printOddNumber(s):\n",
        "    for num in s:\n",
        "        \n",
        "        if(num % 2 == 0):\n",
        "            print(num, end =\" \")\n",
        "        else:\n",
        "            print(num, end =\" \")\n",
        "           \n",
        "s =[43,54,66,78,43,23,45,67,99]\n",
        "printOddNumber(s)"
      ],
      "execution_count": 0,
      "outputs": [
        {
          "output_type": "stream",
          "text": [
            "43 54 66 78 43 23 45 67 99 "
          ],
          "name": "stdout"
        }
      ]
    },
    {
      "cell_type": "code",
      "metadata": {
        "id": "yggKKyQw243F",
        "colab_type": "code",
        "colab": {},
        "outputId": "24e9628b-6ba9-442a-ae28-cd66a5db3481"
      },
      "source": [
        "start, end = 34, 89\n",
        "  \n",
        "for num in range(start, end + 1): \n",
        "      \n",
        "    if num % 2 == 0: \n",
        "        print(num, end = \" \") "
      ],
      "execution_count": 0,
      "outputs": [
        {
          "output_type": "stream",
          "text": [
            "34 36 38 40 42 44 46 48 50 52 54 56 58 60 62 64 66 68 70 72 74 76 78 80 82 84 86 88 "
          ],
          "name": "stdout"
        }
      ]
    },
    {
      "cell_type": "code",
      "metadata": {
        "id": "T7j_f5qE243M",
        "colab_type": "code",
        "colab": {}
      },
      "source": [
        "start , end = 92,43\n",
        "\n",
        "for num in range(start,end+1):\n",
        "    \n",
        "    if num % 2 != 0:\n",
        "        print(num,end = \" \")"
      ],
      "execution_count": 0,
      "outputs": []
    },
    {
      "cell_type": "code",
      "metadata": {
        "id": "KzV5niiU243T",
        "colab_type": "code",
        "colab": {},
        "outputId": "db45e557-042b-4619-fd90-2a14b8406b52"
      },
      "source": [
        "\n",
        "start, end = 56,87\n",
        "\n",
        "for num in range(start, end + 1):\n",
        "    \n",
        " \n",
        " if num % 2 != 0:\n",
        "        print(num, end = \" \") \n"
      ],
      "execution_count": 0,
      "outputs": [
        {
          "output_type": "stream",
          "text": [
            "57 59 61 63 65 67 69 71 73 75 77 79 81 83 85 87 "
          ],
          "name": "stdout"
        }
      ]
    },
    {
      "cell_type": "code",
      "metadata": {
        "id": "92EQb4uV243a",
        "colab_type": "code",
        "colab": {},
        "outputId": "91c157e2-199f-4d21-bb72-21513e21904f"
      },
      "source": [
        "list1 = [10, 21, 4, 45, 66, 93, 1,54,78,98] \n",
        "  \n",
        "even_count, odd_count = 0, 0\n",
        "  \n",
        "for num in list1: \n",
        "      \n",
        "    if num % 2 == 0: \n",
        "        even_count += 1\n",
        "  \n",
        "    else: \n",
        "        odd_count += 1\n",
        "          \n",
        "print(\"Even numbers in the list: \", even_count) \n",
        "print(\"Odd numbers in the list: \", odd_count) \n"
      ],
      "execution_count": 0,
      "outputs": [
        {
          "output_type": "stream",
          "text": [
            "Even numbers in the list:  6\n",
            "Odd numbers in the list:  4\n"
          ],
          "name": "stdout"
        }
      ]
    },
    {
      "cell_type": "code",
      "metadata": {
        "id": "swBeqFbC243j",
        "colab_type": "code",
        "colab": {},
        "outputId": "f3a74836-7223-4673-adf3-0a160edfa618"
      },
      "source": [
        "list1 = [11, -21, 0, 45, 66, -93,56,-23] \n",
        "  \n",
        "for num in list1: \n",
        "      \n",
        "    if num >= 0: \n",
        "       print(num, end = \" \") "
      ],
      "execution_count": 0,
      "outputs": [
        {
          "output_type": "stream",
          "text": [
            "11 0 45 66 56 "
          ],
          "name": "stdout"
        }
      ]
    },
    {
      "cell_type": "code",
      "metadata": {
        "id": "Nyl2v8pK243q",
        "colab_type": "code",
        "colab": {},
        "outputId": "c794319e-4cf3-430f-c10e-0b03ff53f5f0"
      },
      "source": [
        "list1 = [11, -21, 0, 45, 66, -93,56,-23,-689] \n",
        "  \n",
        "for num in list1: \n",
        "      \n",
        "    if num <= 0: \n",
        "       print(num, end = \" \") "
      ],
      "execution_count": 0,
      "outputs": [
        {
          "output_type": "stream",
          "text": [
            "-21 0 -93 -23 -689 "
          ],
          "name": "stdout"
        }
      ]
    },
    {
      "cell_type": "code",
      "metadata": {
        "id": "U6EHB02Y2430",
        "colab_type": "code",
        "colab": {},
        "outputId": "16f93fa1-aef0-466d-b7de-4c994b2f54a5"
      },
      "source": [
        "start, end = -4, 40\n",
        "  \n",
        "for num in range(start, end + 1): \n",
        "      \n",
        "    if num >= 0: \n",
        "        print(num, end = \" \") \n"
      ],
      "execution_count": 0,
      "outputs": [
        {
          "output_type": "stream",
          "text": [
            "0 1 2 3 4 5 6 7 8 9 10 11 12 13 14 15 16 17 18 19 20 21 22 23 24 25 26 27 28 29 30 31 32 33 34 35 36 37 38 39 40 "
          ],
          "name": "stdout"
        }
      ]
    },
    {
      "cell_type": "code",
      "metadata": {
        "id": "drvn-9W82437",
        "colab_type": "code",
        "colab": {},
        "outputId": "f2fd8e9e-3dff-4d95-9e14-81fe2520f184"
      },
      "source": [
        "list1 = [10, -21, 4, -45, 66, -93, 1] \n",
        "  \n",
        "pos_count, neg_count = 0, 0\n",
        "  \n",
        "for num in list1: \n",
        "      \n",
        "    if num >= 0: \n",
        "        pos_count += 1\n",
        "  \n",
        "    else: \n",
        "        neg_count += 1\n",
        "          \n",
        "print(\"Positive numbers in the list: \", pos_count) \n",
        "print(\"Negative numbers in the list: \", neg_count) \n"
      ],
      "execution_count": 0,
      "outputs": [
        {
          "output_type": "stream",
          "text": [
            "Positive numbers in the list:  4\n",
            "Negative numbers in the list:  3\n"
          ],
          "name": "stdout"
        }
      ]
    },
    {
      "cell_type": "code",
      "metadata": {
        "id": "1DSqIAzu244F",
        "colab_type": "code",
        "colab": {},
        "outputId": "891ee320-3650-4ab0-b2c9-3dd931a8771a"
      },
      "source": [
        "list1 = [11, 5, 17, 18, 23, 50,45,97,77]  \n",
        "  \n",
        "for ele in list1: \n",
        "    if ele % 2 == 0: \n",
        "        list1.remove(ele) \n",
        "  \n",
        "print(\"New list after removing all even numbers: \", list1) "
      ],
      "execution_count": 0,
      "outputs": [
        {
          "output_type": "stream",
          "text": [
            "New list after removing all even numbers:  [11, 5, 17, 23, 45, 97, 77]\n"
          ],
          "name": "stdout"
        }
      ]
    },
    {
      "cell_type": "code",
      "metadata": {
        "id": "3B0wg76C244O",
        "colab_type": "code",
        "colab": {},
        "outputId": "3de4387a-d770-4749-89a3-35f7976e76d1"
      },
      "source": [
        "def Remove(tuples): \n",
        "    tuples = [t for t in tuples if t] \n",
        "    return tuples \n",
        "  \n",
        "tuples = [(),('seeta'),(),(\"geeta\"),(),(\"ram\"),(),()] \n",
        "print(Remove(tuples)) "
      ],
      "execution_count": 0,
      "outputs": [
        {
          "output_type": "stream",
          "text": [
            "['seeta', 'geeta', 'ram']\n"
          ],
          "name": "stdout"
        }
      ]
    },
    {
      "cell_type": "code",
      "metadata": {
        "id": "dJ3fhIz3244V",
        "colab_type": "code",
        "colab": {},
        "outputId": "b29ec95d-480e-48a7-aea4-3960a928cbdb"
      },
      "source": [
        "start, end = -4,56\n",
        "  \n",
        "for num in range(start, end + 1): \n",
        "      \n",
        "    if num <= 0: \n",
        "        print(num, end = \" \") "
      ],
      "execution_count": 0,
      "outputs": [
        {
          "output_type": "stream",
          "text": [
            "-4 -3 -2 -1 0 "
          ],
          "name": "stdout"
        }
      ]
    },
    {
      "cell_type": "code",
      "metadata": {
        "id": "DEcui1Ud244f",
        "colab_type": "code",
        "colab": {},
        "outputId": "2ce65200-bef8-4f91-c864-f07eeb42fa17"
      },
      "source": [
        "start, end = -4,56\n",
        "  \n",
        "for num in range(start, end + 1): \n",
        "      \n",
        "    if num >= 0: \n",
        "        print(num, end = \" \") "
      ],
      "execution_count": 0,
      "outputs": [
        {
          "output_type": "stream",
          "text": [
            "0 1 2 3 4 5 6 7 8 9 10 11 12 13 14 15 16 17 18 19 20 21 22 23 24 25 26 27 28 29 30 31 32 33 34 35 36 37 38 39 40 41 42 43 44 45 46 47 48 49 50 51 52 53 54 55 56 "
          ],
          "name": "stdout"
        }
      ]
    },
    {
      "cell_type": "code",
      "metadata": {
        "id": "4Z63Bi6-244l",
        "colab_type": "code",
        "colab": {},
        "outputId": "c2193990-084c-4162-9ed0-a3f34e3296a0"
      },
      "source": [
        "def printNumber(s):\n",
        "    thisdict = dict()\n",
        "    for i in s:\n",
        "        count = 0\n",
        "        for j in s:\n",
        "            \n",
        "            if(i == j):\n",
        "                count = count+1\n",
        "        thisdict[i] = count\n",
        "    print(thisdict)\n",
        "                \n",
        "s =[12,13,22,41,11,12,12,11,34,12,11] \n",
        "printNumber(s)"
      ],
      "execution_count": 0,
      "outputs": [
        {
          "output_type": "stream",
          "text": [
            "{12: 4, 13: 1, 22: 1, 41: 1, 11: 3, 34: 1}\n"
          ],
          "name": "stdout"
        }
      ]
    },
    {
      "cell_type": "code",
      "metadata": {
        "id": "T9Ajr9bu244r",
        "colab_type": "code",
        "colab": {},
        "outputId": "a27695de-15e0-493d-cced-78a403dd5196"
      },
      "source": [
        "def printWord(v):\n",
        "    n = len(v)\n",
        "    print(n)\n",
        "    count = 0\n",
        "    for i in range(n):\n",
        "        print(v[i])\n",
        "        if(v[i]=='a' or v[i]=='e' or v[i]=='i' or v[i]=='o' or v[i]=='u'):\n",
        "                                                                 count = count+1\n",
        "                                                                 print(count)   \n",
        "                                                                 \n",
        "        else:\n",
        "            print(\"this is not vowel character\")\n",
        "                \n",
        "        \n",
        "v =\"banana is a fruit\"\n",
        "printWord(v)          \n",
        "\n",
        "                                                "
      ],
      "execution_count": 0,
      "outputs": [
        {
          "output_type": "stream",
          "text": [
            "17\n",
            "b\n",
            "this is not vowel character\n",
            "a\n",
            "1\n",
            "n\n",
            "this is not vowel character\n",
            "a\n",
            "2\n",
            "n\n",
            "this is not vowel character\n",
            "a\n",
            "3\n",
            " \n",
            "this is not vowel character\n",
            "i\n",
            "4\n",
            "s\n",
            "this is not vowel character\n",
            " \n",
            "this is not vowel character\n",
            "a\n",
            "5\n",
            " \n",
            "this is not vowel character\n",
            "f\n",
            "this is not vowel character\n",
            "r\n",
            "this is not vowel character\n",
            "u\n",
            "6\n",
            "i\n",
            "7\n",
            "t\n",
            "this is not vowel character\n"
          ],
          "name": "stdout"
        }
      ]
    },
    {
      "cell_type": "code",
      "metadata": {
        "id": "vuIdz_c12440",
        "colab_type": "code",
        "colab": {},
        "outputId": "c7c91a15-32a7-4731-ee80-c30b6eedac40"
      },
      "source": [
        "def printNumber(s):\n",
        "    for i in s:\n",
        "        if(len(i)<9):\n",
        "            print('i less than 9',i)\n",
        "        else:\n",
        "            print('i greater than 9',i)\n",
        "            \n",
        "s =[\"anjali\",\"parth\",\"pihu\",\"parmeshwari dayal\",\"pooja\"]\n",
        "printNumber(s)"
      ],
      "execution_count": 0,
      "outputs": [
        {
          "output_type": "stream",
          "text": [
            "i less than 9 anjali\n",
            "i less than 9 parth\n",
            "i less than 9 pihu\n",
            "i greater than 9 parmeshwari dayal\n",
            "i less than 9 pooja\n"
          ],
          "name": "stdout"
        }
      ]
    },
    {
      "cell_type": "code",
      "metadata": {
        "id": "56uHLnT1244_",
        "colab_type": "code",
        "colab": {},
        "outputId": "fe72f21e-90cc-43d7-ef0f-bb34b7d4de9f"
      },
      "source": [
        "def printNumber(s):\n",
        "    n = len(s)\n",
        "    for i in s:\n",
        "        if(len(i)<8):\n",
        "            \n",
        "            print('i',i)\n",
        "            \n",
        "s = \"aanjali\"\n",
        "printNumber(s)"
      ],
      "execution_count": 0,
      "outputs": [
        {
          "output_type": "stream",
          "text": [
            "i a\n",
            "i a\n",
            "i n\n",
            "i j\n",
            "i a\n",
            "i l\n",
            "i i\n"
          ],
          "name": "stdout"
        }
      ]
    },
    {
      "cell_type": "code",
      "metadata": {
        "id": "Qz5o0L_M245I",
        "colab_type": "code",
        "colab": {},
        "outputId": "139edd90-c105-4cd3-ae31-2a3b43218f1f"
      },
      "source": [
        "def printNumber(s):\n",
        "    n = len(s)\n",
        "    for i in s:\n",
        "        if(len(i)<n):\n",
        "            #remove(i[0])\n",
        "            print('i',i[1:8])\n",
        "s = \"aanjali\"\n",
        "printNumber(s)"
      ],
      "execution_count": 0,
      "outputs": [
        {
          "output_type": "stream",
          "text": [
            "i \n",
            "i \n",
            "i \n",
            "i \n",
            "i \n",
            "i \n",
            "i \n"
          ],
          "name": "stdout"
        }
      ]
    },
    {
      "cell_type": "code",
      "metadata": {
        "id": "bFkQ8LMR245Q",
        "colab_type": "code",
        "colab": {},
        "outputId": "d604d3c0-aaf4-4b4a-ed0e-8354a03b99fc"
      },
      "source": [
        "test = \"aanjali\"\n",
        "print(test[1:8])"
      ],
      "execution_count": 0,
      "outputs": [
        {
          "output_type": "stream",
          "text": [
            "anjali\n"
          ],
          "name": "stdout"
        }
      ]
    },
    {
      "cell_type": "code",
      "metadata": {
        "id": "Y_M3WdBV245V",
        "colab_type": "code",
        "colab": {},
        "outputId": "d6bcf28c-c86c-42a7-e07c-c193c16ee79c"
      },
      "source": [
        "def sort_list(list1, list2): \n",
        "  \n",
        "    zipped_pairs = zip(list2, list1) \n",
        "  \n",
        "    z = [x for _, x in sorted(zipped_pairs)] \n",
        "      \n",
        "    return z \n",
        "      \n",
        "  \n",
        "x = [\"a\", \"b\", \"c\", \"d\", \"e\", \"f\", \"g\", \"h\", \"i\"] \n",
        "y = [ 0,   1,   1,    0,   1,   2,   2,   0,   1] \n",
        "  \n",
        "print(sort_list(x, y)) \n",
        "  \n",
        "x = [\"a\", \"e\", \"e\", \"k\", \"s\", \"f\", \"o\", \"r\", \"g\", \"e\", \"e\", \"k\", \"s\"] \n",
        "y = [ 0,   1,   1,    0,   1,   2,   2,   0,   1] \n",
        "  \n",
        "print(sort_list(x, y)) \n"
      ],
      "execution_count": 0,
      "outputs": [
        {
          "output_type": "stream",
          "text": [
            "['a', 'd', 'h', 'b', 'c', 'e', 'i', 'f', 'g']\n",
            "['a', 'k', 'r', 'e', 'e', 'g', 's', 'f', 'o']\n"
          ],
          "name": "stdout"
        }
      ]
    },
    {
      "cell_type": "code",
      "metadata": {
        "id": "FucFYyKb245d",
        "colab_type": "code",
        "colab": {},
        "outputId": "e165938b-c60e-4662-8a35-8193a3da4e34"
      },
      "source": [
        "def printNumber(s):\n",
        "    p = set(s)\n",
        "    s = {'0','1'}\n",
        "    \n",
        "    if s == p or s == {'0'} or s == {'1'}:\n",
        "        print(\"yes\")\n",
        "        \n",
        "    else:\n",
        "        print('no')\n",
        "        \n",
        "        \n",
        "s = \"11010001001101010\"\n",
        "printNumber(s)"
      ],
      "execution_count": 0,
      "outputs": [
        {
          "output_type": "stream",
          "text": [
            "yes\n"
          ],
          "name": "stdout"
        }
      ]
    },
    {
      "cell_type": "code",
      "metadata": {
        "id": "S-LdNeA6245n",
        "colab_type": "code",
        "colab": {},
        "outputId": "fac8bec4-65ef-4d0f-f03f-a8682719e292"
      },
      "source": [
        "def printNumber(s):\n",
        "    p = set(s)\n",
        "    s = {'0','1'}\n",
        "    \n",
        "    if s == p or s == {'0'} or s == {'1'}:\n",
        "        print(\"yes\")\n",
        "        \n",
        "    else:\n",
        "        print('no')\n",
        "        \n",
        "        \n",
        "s = \"11012401871121019\"\n",
        "printNumber(s)"
      ],
      "execution_count": 0,
      "outputs": [
        {
          "output_type": "stream",
          "text": [
            "no\n"
          ],
          "name": "stdout"
        }
      ]
    },
    {
      "cell_type": "code",
      "metadata": {
        "id": "tDjEZx51245v",
        "colab_type": "code",
        "colab": {},
        "outputId": "41046d6b-5dfa-4923-a8a9-efd3a940ba78"
      },
      "source": [
        "def closeMatch(pattern,word):\n",
        "    \n",
        "    \n",
        "    print(get_close match(word,pattern))\n",
        "    \n",
        "    \n",
        "    \n",
        "word = 'pineapple'\n",
        "pattern =['pine','puppy','pass']\n",
        "closeMatch(pattern,word)        "
      ],
      "execution_count": 0,
      "outputs": [
        {
          "output_type": "error",
          "ename": "SyntaxError",
          "evalue": "invalid syntax (<ipython-input-29-34af0f3677ec>, line 4)",
          "traceback": [
            "\u001b[1;36m  File \u001b[1;32m\"<ipython-input-29-34af0f3677ec>\"\u001b[1;36m, line \u001b[1;32m4\u001b[0m\n\u001b[1;33m    print(get_close match(word,pattern))\u001b[0m\n\u001b[1;37m                        ^\u001b[0m\n\u001b[1;31mSyntaxError\u001b[0m\u001b[1;31m:\u001b[0m invalid syntax\n"
          ]
        }
      ]
    },
    {
      "cell_type": "code",
      "metadata": {
        "id": "c8qDYwUo2451",
        "colab_type": "code",
        "colab": {},
        "outputId": "1629c1e8-e6cf-48eb-e4d3-97a4497a0d6c"
      },
      "source": [
        "def UncommonWords(A, B): \n",
        "  \n",
        "    count = {} \n",
        "      \n",
        "    for word in A.split(): \n",
        "        count[word] = count.get(word, 0) + 1\n",
        "      \n",
        "    for word in B.split(): \n",
        "        count[word] = count.get(word, 0) + 1\n",
        "  \n",
        "    return [word for word in count if count[word] == 1] \n",
        "  \n",
        "A = \"hello,hello\"\n",
        "B = \"my name is rita hello,hello \"\n",
        "  \n",
        "print(UncommonWords(A, B)) "
      ],
      "execution_count": 0,
      "outputs": [
        {
          "output_type": "stream",
          "text": [
            "['my', 'name', 'is', 'rita']\n"
          ],
          "name": "stdout"
        }
      ]
    },
    {
      "cell_type": "code",
      "metadata": {
        "id": "ZXQt5mBg245-",
        "colab_type": "code",
        "colab": {},
        "outputId": "178f6f59-5e1c-42e7-dd07-4b8fbe3e179c"
      },
      "source": [
        "def Replace(str1): \n",
        "    maketrans = str1.maketrans \n",
        "    final = str1.translate(maketrans(', .', '., ')) \n",
        "    return final \n",
        "  \n",
        "string = \"anjali.pooja,pihu,nita\"          \n",
        "print(Replace(string)) "
      ],
      "execution_count": 0,
      "outputs": [
        {
          "output_type": "stream",
          "text": [
            "anjali pooja.pihu.nita\n"
          ],
          "name": "stdout"
        }
      ]
    },
    {
      "cell_type": "code",
      "metadata": {
        "id": "3_ZTMCyO246I",
        "colab_type": "code",
        "colab": {},
        "outputId": "296c1fd6-9d56-4d28-eaf6-eaaff8e151a5"
      },
      "source": [
        "from itertool import permutation\n",
        "\n",
        "def permutation(num):\n",
        "    permlist = permutation(num)\n",
        "    \n",
        "    for perm in list(permlist):\n",
        "        print(\".join(perm)\")\n",
        "        \n",
        "num ='234'\n",
        "permutation(num)"
      ],
      "execution_count": 0,
      "outputs": [
        {
          "output_type": "error",
          "ename": "ModuleNotFoundError",
          "evalue": "No module named 'itertool'",
          "traceback": [
            "\u001b[1;31m---------------------------------------------------------------------------\u001b[0m",
            "\u001b[1;31mModuleNotFoundError\u001b[0m                       Traceback (most recent call last)",
            "\u001b[1;32m<ipython-input-1-46062a987920>\u001b[0m in \u001b[0;36m<module>\u001b[1;34m\u001b[0m\n\u001b[1;32m----> 1\u001b[1;33m \u001b[1;32mfrom\u001b[0m \u001b[0mitertool\u001b[0m \u001b[1;32mimport\u001b[0m \u001b[0mpermutation\u001b[0m\u001b[1;33m\u001b[0m\u001b[1;33m\u001b[0m\u001b[0m\n\u001b[0m\u001b[0;32m      2\u001b[0m \u001b[1;33m\u001b[0m\u001b[0m\n\u001b[0;32m      3\u001b[0m \u001b[1;32mdef\u001b[0m \u001b[0mpermutation\u001b[0m\u001b[1;33m(\u001b[0m\u001b[0mnum\u001b[0m\u001b[1;33m)\u001b[0m\u001b[1;33m:\u001b[0m\u001b[1;33m\u001b[0m\u001b[1;33m\u001b[0m\u001b[0m\n\u001b[0;32m      4\u001b[0m     \u001b[0mpermlist\u001b[0m \u001b[1;33m=\u001b[0m \u001b[0mpermutation\u001b[0m\u001b[1;33m(\u001b[0m\u001b[0mnum\u001b[0m\u001b[1;33m)\u001b[0m\u001b[1;33m\u001b[0m\u001b[1;33m\u001b[0m\u001b[0m\n\u001b[0;32m      5\u001b[0m \u001b[1;33m\u001b[0m\u001b[0m\n",
            "\u001b[1;31mModuleNotFoundError\u001b[0m: No module named 'itertool'"
          ]
        }
      ]
    },
    {
      "cell_type": "code",
      "metadata": {
        "id": "ycTnqp4p246R",
        "colab_type": "code",
        "colab": {},
        "outputId": "673a43f3-7dc1-4e35-e3b1-f0ba2a57ba88"
      },
      "source": [
        "def Merge(dict1, dict2): \n",
        "    return(dict2.update(dict1)) \n",
        "      \n",
        "dict1 = {'a': 16, 'b': 5} \n",
        "dict2 = {'d': 2, 'c': 9} \n",
        "  \n",
        "print(Merge(dict1, dict2)) \n",
        "  \n",
        "print(dict2) "
      ],
      "execution_count": 0,
      "outputs": [
        {
          "output_type": "stream",
          "text": [
            "None\n",
            "{'d': 2, 'c': 9, 'a': 16, 'b': 5}\n"
          ],
          "name": "stdout"
        }
      ]
    },
    {
      "cell_type": "code",
      "metadata": {
        "id": "CX_oHKIf246X",
        "colab_type": "code",
        "colab": {},
        "outputId": "5e6a6530-9a98-4ce7-d42c-4b18b96d217f"
      },
      "source": [
        "Gerry = { \"name\":\"Gerry\", \n",
        "         \"assignment\" : [80, 50, 40, 20], \n",
        "         \"test\" : [21,94], \n",
        "         \"lab\" : [78.20, 77.20] \n",
        "       } \n",
        " Hina = { \"name\":\"Harry\", \n",
        "         \"assignment\" : [17, 98, 32, 30], \n",
        "         \"test\" : [77, 12], \n",
        "         \"lab\" : [78.20, 77.20] \n",
        "       }  \n",
        "         \n",
        "Robin = { \"name\":\"Jarry\", \n",
        "     \"assignment\" : [34, 23, 45, 30], \n",
        "     \"lab\" : [78.53, 46.20] \n",
        "     \"test\" : [34, 45],     \n",
        "   }     \n",
        " \n",
        "       def get_average(marks): \n",
        "    total_sum = sum(marks) \n",
        "    total_sum = float(total_sum) \n",
        "    return total_sum / len(marks) \n",
        "\n",
        "\n",
        "    def calculate_total_average(students): \n",
        "    assignment = get_average(students[\"assignment\"]) \n",
        "    test = get_average(students[\"test\"]) \n",
        "    lab = get_average(students[\"lab\"]) \n",
        "          \n",
        "        return (0.1 * assignment +\n",
        "            0.7 * test + 0.2 * lab) \n",
        "  \n",
        " def assign_letter_grade(score): \n",
        "    if score >= 90: return \"A\"\n",
        "    elif score >= 80: return \"B\"\n",
        "    elif score >= 70: return \"C\"\n",
        "    elif score >= 60: return \"D\"\n",
        "    else : return \"E\"\n",
        "    \n",
        "    def class_average_is(student_list): \n",
        "    result_list = [] \n",
        "  \n",
        " for student in student_list: \n",
        "        stud_avg = calculate_total_average(student) \n",
        "        result_list.append(stud_avg) \n",
        "        return get_average(result_list) \n",
        "    \n",
        "    students =[Gerry,Hina,Robin]\n",
        "    for i in students:\n",
        "        print(i[\"name\"])\n",
        "        print(\"Average marks of %s is : %s \" %(i[\"name\"], \n",
        "                         calculate_total_average(i))) \n",
        "                         \n",
        "        print(\"Letter Grade of %s is : %s\" %(i[\"name\"], \n",
        "    assign_letter_grade(calculate_total_average(i)))) \n",
        "        print()\n",
        "        \n",
        "        class_av = class_average_is(students) \n",
        "\n",
        "        print( \"Class Average is %s\" %(class_av)) \n",
        "        print(\"Letter Grade of the class is %s \" \n",
        "        %(assign_letter_grade(class_av)))                                      "
      ],
      "execution_count": 0,
      "outputs": [
        {
          "output_type": "error",
          "ename": "IndentationError",
          "evalue": "unindent does not match any outer indentation level (<tokenize>, line 19)",
          "traceback": [
            "\u001b[1;36m  File \u001b[1;32m\"<tokenize>\"\u001b[1;36m, line \u001b[1;32m19\u001b[0m\n\u001b[1;33m    total_sum = sum(marks)\u001b[0m\n\u001b[1;37m    ^\u001b[0m\n\u001b[1;31mIndentationError\u001b[0m\u001b[1;31m:\u001b[0m unindent does not match any outer indentation level\n"
          ]
        }
      ]
    },
    {
      "cell_type": "code",
      "metadata": {
        "scrolled": true,
        "id": "0tJl0DqB246e",
        "colab_type": "code",
        "colab": {},
        "outputId": "e663ad4e-1679-48b1-cff4-0c9c75380034"
      },
      "source": [
        "def sub(x,y):\n",
        "    return x-y\n",
        "\n",
        "def sub(x,y):\n",
        "    return x+y\n",
        "\n",
        "def sub(x,y):\n",
        "    return x*y\n",
        "\n",
        "def sub(x,y):\n",
        "    return x/y\n",
        "print(\"select option\")\n",
        "print(\"1.sub\")\n",
        "print(\"2.Add\")\n",
        "print(\"3.Mul\")\n",
        "print(\"4.Divide\")\n",
        "\n",
        "choice =input(\"Enter the number(1/2/3/4)\")\n",
        "x = 6\n",
        "y = 3\n",
        "num1 =int(input(\"Enter first num:\"))\n",
        "num2 =int(input(\"Enter second num:\"))\n",
        "print(x,y)"
      ],
      "execution_count": 0,
      "outputs": [
        {
          "output_type": "stream",
          "text": [
            "select option\n",
            "1.sub\n",
            "2.Add\n",
            "3.Mul\n",
            "4.Divide\n",
            "Enter the number(1/2/3/4)1\n",
            "Enter first num:1\n",
            "Enter second num:1\n",
            "6 3\n"
          ],
          "name": "stdout"
        }
      ]
    },
    {
      "cell_type": "code",
      "metadata": {
        "id": "Cn0KaKmK246k",
        "colab_type": "code",
        "colab": {},
        "outputId": "5f1429f1-44e5-436a-ff06-50531b88a1dd"
      },
      "source": [
        "from collections import Counter \n",
        "  \n",
        "def commonElement(ar1,ar2,ar3): \n",
        "     ar1 = Counter(ar1) \n",
        "     ar2 = Counter(ar2) \n",
        "     ar3 = Counter(ar3) \n",
        "     \n",
        "     resultDict = dict(ar1.items() & ar2.items() & ar3.items()) \n",
        "     common = [] \n",
        "      \n",
        "     for (key,val) in resultDict.items(): \n",
        "          for i in range(0,val): \n",
        "               common.append(key) \n",
        "  \n",
        "     print(common) \n",
        "  \n",
        "if __name__ == \"__main__\": \n",
        "    ar1 = [1,2,34,56,32,]\n",
        "    ar2 = [1,56,22,5,33,2]\n",
        "    ar3 = [2,43,99,56,1]\n",
        "    commonElement(ar1,ar2,ar3) "
      ],
      "execution_count": 0,
      "outputs": [
        {
          "output_type": "stream",
          "text": [
            "[56, 1, 2]\n"
          ],
          "name": "stdout"
        }
      ]
    },
    {
      "cell_type": "code",
      "metadata": {
        "id": "kngxNYuI246q",
        "colab_type": "code",
        "colab": {},
        "outputId": "4cf70e83-2920-4dbb-a034-27181bb9b3b9"
      },
      "source": [
        "from collections import Counter \n",
        "  \n",
        "def find_dup_char(input): \n",
        "  \n",
        "    \n",
        "    WC = Counter(input) \n",
        "    j = -1\n",
        "      \n",
        "      \n",
        "    \n",
        "    for i in WC.values():\n",
        "        j = j + 1\n",
        "        if( i > 1 ):\n",
        "            print WC.keys()[j], \n",
        "  \n",
        "    input = 'apple'\n",
        "    find_dup_char(input) "
      ],
      "execution_count": 0,
      "outputs": [
        {
          "output_type": "error",
          "ename": "SyntaxError",
          "evalue": "invalid syntax (<ipython-input-17-5999bfee0029>, line 14)",
          "traceback": [
            "\u001b[1;36m  File \u001b[1;32m\"<ipython-input-17-5999bfee0029>\"\u001b[1;36m, line \u001b[1;32m14\u001b[0m\n\u001b[1;33m    print WC.keys()[j],\u001b[0m\n\u001b[1;37m           ^\u001b[0m\n\u001b[1;31mSyntaxError\u001b[0m\u001b[1;31m:\u001b[0m invalid syntax\n"
          ]
        }
      ]
    },
    {
      "cell_type": "code",
      "metadata": {
        "id": "U6qFH9_-246y",
        "colab_type": "code",
        "colab": {},
        "outputId": "ca2752bb-a9fc-4c26-8d38-8e4860095456"
      },
      "source": [
        "def allAnagram(input):\n",
        "    dict = {} \n",
        "  \n",
        "    \n",
        "    for strVal in input:\n",
        "        key = ''.join(sorted(strVal)) \n",
        "          \n",
        "        \n",
        "        if key in dict.keys(): \n",
        "            dict[key].append(strVal) \n",
        "        else: \n",
        "            dict[key] = [] \n",
        "            dict[key].append(strVal) \n",
        "  \n",
        "     output = \"\" \n",
        "     for key,value in dict.iteritems():\n",
        "            output = output + ' '.join(value) + ' '\n",
        "  \n",
        "     return output \n",
        "  \n",
        "if __name__ == \"__main__\": \n",
        "    input=['bat', 'god', 'sat', 'bod', 'act'] \n",
        "    print allAnagram(input) "
      ],
      "execution_count": 0,
      "outputs": [
        {
          "output_type": "error",
          "ename": "IndentationError",
          "evalue": "unindent does not match any outer indentation level (<tokenize>, line 15)",
          "traceback": [
            "\u001b[1;36m  File \u001b[1;32m\"<tokenize>\"\u001b[1;36m, line \u001b[1;32m15\u001b[0m\n\u001b[1;33m    output = \"\"\u001b[0m\n\u001b[1;37m    ^\u001b[0m\n\u001b[1;31mIndentationError\u001b[0m\u001b[1;31m:\u001b[0m unindent does not match any outer indentation level\n"
          ]
        }
      ]
    },
    {
      "cell_type": "code",
      "metadata": {
        "id": "xxZJMZLe2464",
        "colab_type": "code",
        "colab": {},
        "outputId": "00d341ad-1ff8-4e3c-cf5b-603f2d471198"
      },
      "source": [
        "from collections import Counter \n",
        "  \n",
        "def checkAnagram(num1,num2): \n",
        "  \n",
        "    \n",
        "    bin1 = bin(num1)[2:] \n",
        "    bin2 = bin(num2)[2:] \n",
        "  \n",
        "    zeros = abs(len(bin1)-len(bin2)) \n",
        "    if (len(bin1)>len(bin2)): \n",
        "         bin2 = zeros * '0' + bin2 \n",
        "    else: \n",
        "         bin1 = zeros * '0' + bin1 \n",
        "  \n",
        "    \n",
        "    dict1 = Counter(bin1) \n",
        "    dict2 = Counter(bin2) \n",
        "  \n",
        "    if dict1 == dict2: \n",
        "         print('Yes') \n",
        "    else: \n",
        "         print('No') \n",
        "\n",
        "if __name__ == \"__main__\": \n",
        "    num1 = 8\n",
        "    num2 = 4\n",
        "    checkAnagram(num1,num2) "
      ],
      "execution_count": 0,
      "outputs": [
        {
          "output_type": "stream",
          "text": [
            "Yes\n"
          ],
          "name": "stdout"
        }
      ]
    },
    {
      "cell_type": "code",
      "metadata": {
        "id": "GkXFee1I246_",
        "colab_type": "code",
        "colab": {},
        "outputId": "8989892f-4712-44c8-e7bc-a86e7405b34f"
      },
      "source": [
        "from collections import Counter \n",
        "  \n",
        "def checkAnagram(num1,num2): \n",
        "  \n",
        "    # convert numbers into in binary \n",
        "    # and remove first two characters of  \n",
        "    # output string because bin function  \n",
        "    # '0b' as prefix in output string \n",
        "    bin1 = bin(num1)[2:] \n",
        "    bin2 = bin(num2)[2:] \n",
        "  \n",
        "    # append zeros in shorter string \n",
        "    zeros = abs(len(bin1)-len(bin2)) \n",
        "    if (len(bin1)>len(bin2)): \n",
        "         bin2 = zeros * '0' + bin2 \n",
        "    else: \n",
        "         bin1 = zeros * '0' + bin1 \n",
        "  \n",
        "    # convert binary representations  \n",
        "    # into dictionary \n",
        "    dict1 = Counter(bin1) \n",
        "    dict2 = Counter(bin2) \n",
        "  \n",
        "    # compare both dictionaries \n",
        "    if dict1 == dict2: \n",
        "         print('Yes') \n",
        "    else: \n",
        "         print('No') \n",
        "  \n",
        " # Driver program \n",
        "if __name__ == \"__main__\": \n",
        "    num1 = 8\n",
        "    num2 = 4\n",
        "    checkAnagram(num1,num2) "
      ],
      "execution_count": 0,
      "outputs": [
        {
          "output_type": "stream",
          "text": [
            "Yes\n"
          ],
          "name": "stdout"
        }
      ]
    },
    {
      "cell_type": "code",
      "metadata": {
        "id": "sUH665xH247F",
        "colab_type": "code",
        "colab": {}
      },
      "source": [
        ""
      ],
      "execution_count": 0,
      "outputs": []
    }
  ]
}