{
  "nbformat": 4,
  "nbformat_minor": 0,
  "metadata": {
    "celltoolbar": "Raw Cell Format",
    "kernelspec": {
      "display_name": "Python 3",
      "language": "python",
      "name": "python3"
    },
    "language_info": {
      "codemirror_mode": {
        "name": "ipython",
        "version": 3
      },
      "file_extension": ".py",
      "mimetype": "text/x-python",
      "name": "python",
      "nbconvert_exporter": "python",
      "pygments_lexer": "ipython3",
      "version": "3.7.3"
    },
    "colab": {
      "name": "20th march.ipynb",
      "provenance": [],
      "include_colab_link": true
    }
  },
  "cells": [
    {
      "cell_type": "markdown",
      "metadata": {
        "id": "view-in-github",
        "colab_type": "text"
      },
      "source": [
        "<a href=\"https://colab.research.google.com/github/anjali5thjun/anjalipythonlearning/blob/master/20th_march.ipynb\" target=\"_parent\"><img src=\"https://colab.research.google.com/assets/colab-badge.svg\" alt=\"Open In Colab\"/></a>"
      ]
    },
    {
      "cell_type": "code",
      "metadata": {
        "id": "hry_QqFa3jsQ",
        "colab_type": "code",
        "colab": {},
        "outputId": "527d76d0-6be8-415c-edff-fd947bd4ced9"
      },
      "source": [
        "num1=187\n",
        "num2=100\n",
        "if num1 > num2:\n",
        "    print(\"num1 is greater than num2\")"
      ],
      "execution_count": 0,
      "outputs": [
        {
          "output_type": "stream",
          "text": [
            "num1 is greater than num2\n"
          ],
          "name": "stdout"
        }
      ]
    },
    {
      "cell_type": "code",
      "metadata": {
        "id": "kqubS8vn3jsn",
        "colab_type": "code",
        "colab": {},
        "outputId": "52265661-5404-40c5-c8d5-456550fc21b7"
      },
      "source": [
        "x=[\"apple\",\"grapes\",\"orange\"]\n",
        "for apple in x:\n",
        "    print(x)"
      ],
      "execution_count": 0,
      "outputs": [
        {
          "output_type": "stream",
          "text": [
            "['apple', 'grapes', 'orange']\n",
            "['apple', 'grapes', 'orange']\n",
            "['apple', 'grapes', 'orange']\n"
          ],
          "name": "stdout"
        }
      ]
    },
    {
      "cell_type": "code",
      "metadata": {
        "id": "33_3vMZw3js0",
        "colab_type": "code",
        "colab": {},
        "outputId": "ecefcef8-6c83-44cc-d67c-90f438bed810"
      },
      "source": [
        "fruits = [\"apple\", \"banana\", \"cherry\"]\n",
        "for x in fruits:\n",
        "  if x == \"banana\":\n",
        "    continue\n",
        "  print(x)\n"
      ],
      "execution_count": 0,
      "outputs": [
        {
          "output_type": "stream",
          "text": [
            "apple\n",
            "cherry\n"
          ],
          "name": "stdout"
        }
      ]
    },
    {
      "cell_type": "code",
      "metadata": {
        "id": "b3SvRQ9J3jtA",
        "colab_type": "code",
        "colab": {},
        "outputId": "013d3549-609c-4c29-de64-64b5abfe0819"
      },
      "source": [
        "x=[\"7\",\"132\",\"100\"]\n",
        "for num in x:\n",
        "    print(x)"
      ],
      "execution_count": 0,
      "outputs": [
        {
          "output_type": "stream",
          "text": [
            "['7', '132', '100']\n",
            "['7', '132', '100']\n",
            "['7', '132', '100']\n"
          ],
          "name": "stdout"
        }
      ]
    },
    {
      "cell_type": "code",
      "metadata": {
        "id": "ycV6TLcr3jtN",
        "colab_type": "code",
        "colab": {},
        "outputId": "c7833200-7553-4714-eeba-340608ec1b5a"
      },
      "source": [
        "x=[\"7\",\"132\",\"100\"]\n",
        "for num in x:\n",
        "    if num == \"132\":\n",
        "        print(num)"
      ],
      "execution_count": 0,
      "outputs": [
        {
          "output_type": "stream",
          "text": [
            "132\n"
          ],
          "name": "stdout"
        }
      ]
    },
    {
      "cell_type": "code",
      "metadata": {
        "id": "razsa_U13jta",
        "colab_type": "code",
        "colab": {},
        "outputId": "a48980f2-9c63-45fd-a0d1-944d49c303ca"
      },
      "source": [
        "x=\"132\"\n",
        "print(x[0])\n",
        "print(x[1])\n",
        "print(x[2])"
      ],
      "execution_count": 0,
      "outputs": [
        {
          "output_type": "stream",
          "text": [
            "1\n",
            "3\n",
            "2\n"
          ],
          "name": "stdout"
        }
      ]
    },
    {
      "cell_type": "code",
      "metadata": {
        "id": "Q5jG776B3jtt",
        "colab_type": "code",
        "colab": {},
        "outputId": "cb8acb40-5d55-4efb-e204-2a657e9b35aa"
      },
      "source": [
        "x=[\"1\",\"2\",\"3\"]\n",
        "y=[\"apple\",\"mango\",\"banana\"]\n",
        "for x in y:\n",
        "    for y in x:\n",
        "        print(y,x)\n"
      ],
      "execution_count": 0,
      "outputs": [
        {
          "output_type": "stream",
          "text": [
            "a apple\n",
            "p apple\n",
            "p apple\n",
            "l apple\n",
            "e apple\n",
            "m mango\n",
            "a mango\n",
            "n mango\n",
            "g mango\n",
            "o mango\n",
            "b banana\n",
            "a banana\n",
            "n banana\n",
            "a banana\n",
            "n banana\n",
            "a banana\n"
          ],
          "name": "stdout"
        }
      ]
    },
    {
      "cell_type": "code",
      "metadata": {
        "id": "Vkkvstso3jt5",
        "colab_type": "code",
        "colab": {},
        "outputId": "5b58555f-8245-4aef-8d18-9c2b2c81e47f"
      },
      "source": [
        "fruits = [\"apple\", \"banana\", \"cherry\"]\n",
        "for x in fruits:\n",
        "  if x == \"oreange\":\n",
        "    break\n",
        "  print(x)\n"
      ],
      "execution_count": 0,
      "outputs": [
        {
          "output_type": "stream",
          "text": [
            "apple\n",
            "banana\n",
            "cherry\n"
          ],
          "name": "stdout"
        }
      ]
    },
    {
      "cell_type": "code",
      "metadata": {
        "id": "izgMBQKF3juD",
        "colab_type": "code",
        "colab": {},
        "outputId": "a17273a7-b128-4342-8438-faccad40a33c"
      },
      "source": [
        "fruits = [\"apple\", \"banana\", \"cherry\"]\n",
        "for x in fruits:\n",
        "  if x == \"cheery\":\n",
        "    continue\n",
        "  print(x)"
      ],
      "execution_count": 0,
      "outputs": [
        {
          "output_type": "stream",
          "text": [
            "apple\n",
            "banana\n",
            "cherry\n"
          ],
          "name": "stdout"
        }
      ]
    },
    {
      "cell_type": "code",
      "metadata": {
        "id": "bNzC6FK53juO",
        "colab_type": "code",
        "colab": {},
        "outputId": "c53aa3ba-4c1b-4f1a-fc7e-1314bcebdd12"
      },
      "source": [
        "vegetables=[\"lady finger\",\"chllie\",\"carrot\"]\n",
        "taste=[\"none\",\"bitter\",\"sweet\"]\n",
        "for x in vegetables:\n",
        "    for y in taste:\n",
        "        print(x,y)"
      ],
      "execution_count": 0,
      "outputs": [
        {
          "output_type": "stream",
          "text": [
            "lady finger none\n",
            "lady finger bitter\n",
            "lady finger sweet\n",
            "chllie none\n",
            "chllie bitter\n",
            "chllie sweet\n",
            "carrot none\n",
            "carrot bitter\n",
            "carrot sweet\n"
          ],
          "name": "stdout"
        }
      ]
    },
    {
      "cell_type": "code",
      "metadata": {
        "id": "8z0rYfsh3juY",
        "colab_type": "code",
        "colab": {},
        "outputId": "df2fe1fe-3f95-4946-d076-1443173f65cb"
      },
      "source": [
        "for x in vegetables:\n",
        "    print(x)\n"
      ],
      "execution_count": 0,
      "outputs": [
        {
          "output_type": "stream",
          "text": [
            "lady finger\n",
            "chllie\n",
            "carrot\n"
          ],
          "name": "stdout"
        }
      ]
    },
    {
      "cell_type": "code",
      "metadata": {
        "id": "BYWe_W0_3jug",
        "colab_type": "code",
        "colab": {},
        "outputId": "e52ec146-4711-4f5d-d99d-b1b763c99c8e"
      },
      "source": [
        "vegetables=[\"lady finger\",\"chllie\",\"carrot\"]\n",
        "for x in vegetables:\n",
        "        print(x)"
      ],
      "execution_count": 0,
      "outputs": [
        {
          "output_type": "stream",
          "text": [
            "lady finger\n",
            "chllie\n",
            "carrot\n"
          ],
          "name": "stdout"
        }
      ]
    },
    {
      "cell_type": "code",
      "metadata": {
        "id": "MdAr5kCt3juq",
        "colab_type": "code",
        "colab": {},
        "outputId": "05715561-b3d1-4433-f467-3d8a2379afbd"
      },
      "source": [
        ""
      ],
      "execution_count": 0,
      "outputs": [
        {
          "output_type": "stream",
          "text": [
            "1\n",
            "3\n",
            "2\n",
            "231\n",
            "x is lesser than y\n"
          ],
          "name": "stdout"
        }
      ]
    },
    {
      "cell_type": "code",
      "metadata": {
        "id": "EHqe-0Q03juy",
        "colab_type": "code",
        "colab": {},
        "outputId": "b6764b8f-23f7-4111-db6a-7ef73e92be85"
      },
      "source": [
        ""
      ],
      "execution_count": 0,
      "outputs": [
        {
          "output_type": "stream",
          "text": [
            "Enter the number121\n",
            "121\n",
            "121\n",
            "Number is palidrom\n"
          ],
          "name": "stdout"
        }
      ]
    },
    {
      "cell_type": "markdown",
      "metadata": {
        "id": "wa_yONfw3ju6",
        "colab_type": "text"
      },
      "source": [
        ""
      ]
    },
    {
      "cell_type": "code",
      "metadata": {
        "id": "B-HyxuvS3ju8",
        "colab_type": "code",
        "colab": {}
      },
      "source": [
        ""
      ],
      "execution_count": 0,
      "outputs": []
    },
    {
      "cell_type": "code",
      "metadata": {
        "id": "PT8doh_F3jvI",
        "colab_type": "code",
        "colab": {}
      },
      "source": [
        ""
      ],
      "execution_count": 0,
      "outputs": []
    },
    {
      "cell_type": "code",
      "metadata": {
        "id": "OgNs3yCi3jvP",
        "colab_type": "code",
        "colab": {}
      },
      "source": [
        ""
      ],
      "execution_count": 0,
      "outputs": []
    }
  ]
}